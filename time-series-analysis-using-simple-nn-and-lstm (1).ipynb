{
 "cells": [
  {
   "cell_type": "code",
   "execution_count": 1,
   "metadata": {
    "execution": {
     "iopub.execute_input": "2021-03-03T10:47:54.494542Z",
     "iopub.status.busy": "2021-03-03T10:47:54.493839Z",
     "iopub.status.idle": "2021-03-03T10:47:55.345192Z",
     "shell.execute_reply": "2021-03-03T10:47:55.344309Z"
    },
    "papermill": {
     "duration": 0.876164,
     "end_time": "2021-03-03T10:47:55.345426",
     "exception": false,
     "start_time": "2021-03-03T10:47:54.469262",
     "status": "completed"
    },
    "tags": []
   },
   "outputs": [],
   "source": [
    "import numpy as np\n",
    "import pandas as pd\n",
    "import matplotlib.pyplot as plt\n",
    "plt.style.use('fivethirtyeight')\n",
    "%matplotlib inline\n",
    "import seaborn as sns\n",
    "sns.set_style('darkgrid')"
   ]
  },
  {
   "cell_type": "code",
   "execution_count": 2,
   "metadata": {
    "execution": {
     "iopub.execute_input": "2021-03-03T10:47:55.377265Z",
     "iopub.status.busy": "2021-03-03T10:47:55.376610Z",
     "iopub.status.idle": "2021-03-03T10:47:55.661353Z",
     "shell.execute_reply": "2021-03-03T10:47:55.660621Z"
    },
    "papermill": {
     "duration": 0.301544,
     "end_time": "2021-03-03T10:47:55.661514",
     "exception": false,
     "start_time": "2021-03-03T10:47:55.359970",
     "status": "completed"
    },
    "tags": []
   },
   "outputs": [],
   "source": [
    "from sklearn.preprocessing import MinMaxScaler\n",
    "from sklearn.metrics import r2_score"
   ]
  },
  {
   "cell_type": "code",
   "execution_count": 3,
   "metadata": {
    "execution": {
     "iopub.execute_input": "2021-03-03T10:47:55.701526Z",
     "iopub.status.busy": "2021-03-03T10:47:55.700691Z",
     "iopub.status.idle": "2021-03-03T10:48:01.357446Z",
     "shell.execute_reply": "2021-03-03T10:48:01.356762Z"
    },
    "papermill": {
     "duration": 5.681419,
     "end_time": "2021-03-03T10:48:01.357616",
     "exception": false,
     "start_time": "2021-03-03T10:47:55.676197",
     "status": "completed"
    },
    "tags": []
   },
   "outputs": [],
   "source": [
    "from keras.models import Sequential\n",
    "from keras.layers import Dense\n",
    "from keras.callbacks import EarlyStopping\n",
    "from keras.optimizers import Adam\n",
    "from keras.layers import LSTM"
   ]
  },
  {
   "cell_type": "code",
   "execution_count": 4,
   "metadata": {
    "execution": {
     "iopub.execute_input": "2021-03-03T10:48:01.392874Z",
     "iopub.status.busy": "2021-03-03T10:48:01.392216Z",
     "iopub.status.idle": "2021-03-03T10:48:01.454567Z",
     "shell.execute_reply": "2021-03-03T10:48:01.455071Z"
    },
    "papermill": {
     "duration": 0.082735,
     "end_time": "2021-03-03T10:48:01.455266",
     "exception": false,
     "start_time": "2021-03-03T10:48:01.372531",
     "status": "completed"
    },
    "tags": []
   },
   "outputs": [
    {
     "data": {
      "text/html": [
       "<div>\n",
       "<style scoped>\n",
       "    .dataframe tbody tr th:only-of-type {\n",
       "        vertical-align: middle;\n",
       "    }\n",
       "\n",
       "    .dataframe tbody tr th {\n",
       "        vertical-align: top;\n",
       "    }\n",
       "\n",
       "    .dataframe thead th {\n",
       "        text-align: right;\n",
       "    }\n",
       "</style>\n",
       "<table border=\"1\" class=\"dataframe\">\n",
       "  <thead>\n",
       "    <tr style=\"text-align: right;\">\n",
       "      <th></th>\n",
       "      <th>Date</th>\n",
       "      <th>Open</th>\n",
       "      <th>High</th>\n",
       "      <th>Low</th>\n",
       "      <th>Close</th>\n",
       "      <th>Adj Close</th>\n",
       "      <th>Volume</th>\n",
       "    </tr>\n",
       "  </thead>\n",
       "  <tbody>\n",
       "    <tr>\n",
       "      <th>0</th>\n",
       "      <td>2010-06-29</td>\n",
       "      <td>3.800</td>\n",
       "      <td>5.000</td>\n",
       "      <td>3.508</td>\n",
       "      <td>4.778</td>\n",
       "      <td>4.778</td>\n",
       "      <td>93831500</td>\n",
       "    </tr>\n",
       "    <tr>\n",
       "      <th>1</th>\n",
       "      <td>2010-06-30</td>\n",
       "      <td>5.158</td>\n",
       "      <td>6.084</td>\n",
       "      <td>4.660</td>\n",
       "      <td>4.766</td>\n",
       "      <td>4.766</td>\n",
       "      <td>85935500</td>\n",
       "    </tr>\n",
       "    <tr>\n",
       "      <th>2</th>\n",
       "      <td>2010-07-01</td>\n",
       "      <td>5.000</td>\n",
       "      <td>5.184</td>\n",
       "      <td>4.054</td>\n",
       "      <td>4.392</td>\n",
       "      <td>4.392</td>\n",
       "      <td>41094000</td>\n",
       "    </tr>\n",
       "    <tr>\n",
       "      <th>3</th>\n",
       "      <td>2010-07-02</td>\n",
       "      <td>4.600</td>\n",
       "      <td>4.620</td>\n",
       "      <td>3.742</td>\n",
       "      <td>3.840</td>\n",
       "      <td>3.840</td>\n",
       "      <td>25699000</td>\n",
       "    </tr>\n",
       "    <tr>\n",
       "      <th>4</th>\n",
       "      <td>2010-07-06</td>\n",
       "      <td>4.000</td>\n",
       "      <td>4.000</td>\n",
       "      <td>3.166</td>\n",
       "      <td>3.222</td>\n",
       "      <td>3.222</td>\n",
       "      <td>34334500</td>\n",
       "    </tr>\n",
       "  </tbody>\n",
       "</table>\n",
       "</div>"
      ],
      "text/plain": [
       "         Date   Open   High    Low  Close  Adj Close    Volume\n",
       "0  2010-06-29  3.800  5.000  3.508  4.778      4.778  93831500\n",
       "1  2010-06-30  5.158  6.084  4.660  4.766      4.766  85935500\n",
       "2  2010-07-01  5.000  5.184  4.054  4.392      4.392  41094000\n",
       "3  2010-07-02  4.600  4.620  3.742  3.840      3.840  25699000\n",
       "4  2010-07-06  4.000  4.000  3.166  3.222      3.222  34334500"
      ]
     },
     "execution_count": 4,
     "metadata": {},
     "output_type": "execute_result"
    }
   ],
   "source": [
    "data=pd.read_csv('../input/tesla-data/TSLA (1).csv')\n",
    "data.head()"
   ]
  },
  {
   "cell_type": "code",
   "execution_count": 5,
   "metadata": {
    "execution": {
     "iopub.execute_input": "2021-03-03T10:48:01.498576Z",
     "iopub.status.busy": "2021-03-03T10:48:01.497630Z",
     "iopub.status.idle": "2021-03-03T10:48:01.503149Z",
     "shell.execute_reply": "2021-03-03T10:48:01.502072Z"
    },
    "papermill": {
     "duration": 0.03276,
     "end_time": "2021-03-03T10:48:01.503431",
     "exception": false,
     "start_time": "2021-03-03T10:48:01.470671",
     "status": "completed"
    },
    "tags": []
   },
   "outputs": [
    {
     "data": {
      "text/html": [
       "<div>\n",
       "<style scoped>\n",
       "    .dataframe tbody tr th:only-of-type {\n",
       "        vertical-align: middle;\n",
       "    }\n",
       "\n",
       "    .dataframe tbody tr th {\n",
       "        vertical-align: top;\n",
       "    }\n",
       "\n",
       "    .dataframe thead th {\n",
       "        text-align: right;\n",
       "    }\n",
       "</style>\n",
       "<table border=\"1\" class=\"dataframe\">\n",
       "  <thead>\n",
       "    <tr style=\"text-align: right;\">\n",
       "      <th></th>\n",
       "      <th>Date</th>\n",
       "      <th>Close</th>\n",
       "    </tr>\n",
       "  </thead>\n",
       "  <tbody>\n",
       "    <tr>\n",
       "      <th>0</th>\n",
       "      <td>2010-06-29</td>\n",
       "      <td>4.778</td>\n",
       "    </tr>\n",
       "    <tr>\n",
       "      <th>1</th>\n",
       "      <td>2010-06-30</td>\n",
       "      <td>4.766</td>\n",
       "    </tr>\n",
       "    <tr>\n",
       "      <th>2</th>\n",
       "      <td>2010-07-01</td>\n",
       "      <td>4.392</td>\n",
       "    </tr>\n",
       "    <tr>\n",
       "      <th>3</th>\n",
       "      <td>2010-07-02</td>\n",
       "      <td>3.840</td>\n",
       "    </tr>\n",
       "    <tr>\n",
       "      <th>4</th>\n",
       "      <td>2010-07-06</td>\n",
       "      <td>3.222</td>\n",
       "    </tr>\n",
       "  </tbody>\n",
       "</table>\n",
       "</div>"
      ],
      "text/plain": [
       "         Date  Close\n",
       "0  2010-06-29  4.778\n",
       "1  2010-06-30  4.766\n",
       "2  2010-07-01  4.392\n",
       "3  2010-07-02  3.840\n",
       "4  2010-07-06  3.222"
      ]
     },
     "execution_count": 5,
     "metadata": {},
     "output_type": "execute_result"
    }
   ],
   "source": [
    "data=data[['Date','Close']]\n",
    "data.head()"
   ]
  },
  {
   "cell_type": "code",
   "execution_count": 6,
   "metadata": {
    "execution": {
     "iopub.execute_input": "2021-03-03T10:48:01.551533Z",
     "iopub.status.busy": "2021-03-03T10:48:01.550637Z",
     "iopub.status.idle": "2021-03-03T10:48:01.556011Z",
     "shell.execute_reply": "2021-03-03T10:48:01.555377Z"
    },
    "papermill": {
     "duration": 0.037037,
     "end_time": "2021-03-03T10:48:01.556162",
     "exception": false,
     "start_time": "2021-03-03T10:48:01.519125",
     "status": "completed"
    },
    "tags": []
   },
   "outputs": [
    {
     "data": {
      "text/html": [
       "<div>\n",
       "<style scoped>\n",
       "    .dataframe tbody tr th:only-of-type {\n",
       "        vertical-align: middle;\n",
       "    }\n",
       "\n",
       "    .dataframe tbody tr th {\n",
       "        vertical-align: top;\n",
       "    }\n",
       "\n",
       "    .dataframe thead th {\n",
       "        text-align: right;\n",
       "    }\n",
       "</style>\n",
       "<table border=\"1\" class=\"dataframe\">\n",
       "  <thead>\n",
       "    <tr style=\"text-align: right;\">\n",
       "      <th></th>\n",
       "      <th>Close</th>\n",
       "    </tr>\n",
       "    <tr>\n",
       "      <th>Date</th>\n",
       "      <th></th>\n",
       "    </tr>\n",
       "  </thead>\n",
       "  <tbody>\n",
       "    <tr>\n",
       "      <th>2010-06-29</th>\n",
       "      <td>4.778</td>\n",
       "    </tr>\n",
       "    <tr>\n",
       "      <th>2010-06-30</th>\n",
       "      <td>4.766</td>\n",
       "    </tr>\n",
       "    <tr>\n",
       "      <th>2010-07-01</th>\n",
       "      <td>4.392</td>\n",
       "    </tr>\n",
       "    <tr>\n",
       "      <th>2010-07-02</th>\n",
       "      <td>3.840</td>\n",
       "    </tr>\n",
       "    <tr>\n",
       "      <th>2010-07-06</th>\n",
       "      <td>3.222</td>\n",
       "    </tr>\n",
       "  </tbody>\n",
       "</table>\n",
       "</div>"
      ],
      "text/plain": [
       "            Close\n",
       "Date             \n",
       "2010-06-29  4.778\n",
       "2010-06-30  4.766\n",
       "2010-07-01  4.392\n",
       "2010-07-02  3.840\n",
       "2010-07-06  3.222"
      ]
     },
     "execution_count": 6,
     "metadata": {},
     "output_type": "execute_result"
    }
   ],
   "source": [
    "data['Date']=pd.to_datetime(data['Date'])\n",
    "data=data.set_index(['Date'])\n",
    "data.head()"
   ]
  },
  {
   "cell_type": "code",
   "execution_count": 7,
   "metadata": {
    "execution": {
     "iopub.execute_input": "2021-03-03T10:48:01.607659Z",
     "iopub.status.busy": "2021-03-03T10:48:01.593590Z",
     "iopub.status.idle": "2021-03-03T10:48:01.845670Z",
     "shell.execute_reply": "2021-03-03T10:48:01.846141Z"
    },
    "papermill": {
     "duration": 0.274093,
     "end_time": "2021-03-03T10:48:01.846311",
     "exception": false,
     "start_time": "2021-03-03T10:48:01.572218",
     "status": "completed"
    },
    "tags": []
   },
   "outputs": [
    {
     "data": {
      "text/plain": [
       "[<matplotlib.lines.Line2D at 0x7f7f869c5350>]"
      ]
     },
     "execution_count": 7,
     "metadata": {},
     "output_type": "execute_result"
    },
    {
     "data": {
      "image/png": "[encoded data removed]",
      "text/plain": [
       "<Figure size 720x432 with 1 Axes>"
      ]
     },
     "metadata": {},
     "output_type": "display_data"
    }
   ],
   "source": [
    "plt.figure(figsize=(10,6))\n",
    "plt.plot(data['Close'])"
   ]
  },
  {
   "cell_type": "code",
   "execution_count": 8,
   "metadata": {
    "execution": {
     "iopub.execute_input": "2021-03-03T10:48:01.885531Z",
     "iopub.status.busy": "2021-03-03T10:48:01.884697Z",
     "iopub.status.idle": "2021-03-03T10:48:01.888244Z",
     "shell.execute_reply": "2021-03-03T10:48:01.887628Z"
    },
    "papermill": {
     "duration": 0.025448,
     "end_time": "2021-03-03T10:48:01.888375",
     "exception": false,
     "start_time": "2021-03-03T10:48:01.862927",
     "status": "completed"
    },
    "tags": []
   },
   "outputs": [],
   "source": [
    "split_date=pd.Timestamp('2020-01-01')"
   ]
  },
  {
   "cell_type": "code",
   "execution_count": 9,
   "metadata": {
    "execution": {
     "iopub.execute_input": "2021-03-03T10:48:01.928227Z",
     "iopub.status.busy": "2021-03-03T10:48:01.927394Z",
     "iopub.status.idle": "2021-03-03T10:48:01.932020Z",
     "shell.execute_reply": "2021-03-03T10:48:01.931415Z"
    },
    "papermill": {
     "duration": 0.026072,
     "end_time": "2021-03-03T10:48:01.932153",
     "exception": false,
     "start_time": "2021-03-03T10:48:01.906081",
     "status": "completed"
    },
    "tags": []
   },
   "outputs": [
    {
     "data": {
      "text/plain": [
       "Timestamp('2020-01-01 00:00:00')"
      ]
     },
     "execution_count": 9,
     "metadata": {},
     "output_type": "execute_result"
    }
   ],
   "source": [
    "split_date"
   ]
  },
  {
   "cell_type": "code",
   "execution_count": 10,
   "metadata": {
    "execution": {
     "iopub.execute_input": "2021-03-03T10:48:01.972627Z",
     "iopub.status.busy": "2021-03-03T10:48:01.971857Z",
     "iopub.status.idle": "2021-03-03T10:48:01.974244Z",
     "shell.execute_reply": "2021-03-03T10:48:01.974763Z"
    },
    "papermill": {
     "duration": 0.0254,
     "end_time": "2021-03-03T10:48:01.974927",
     "exception": false,
     "start_time": "2021-03-03T10:48:01.949527",
     "status": "completed"
    },
    "tags": []
   },
   "outputs": [],
   "source": [
    "data=data['Close']"
   ]
  },
  {
   "cell_type": "code",
   "execution_count": 11,
   "metadata": {
    "execution": {
     "iopub.execute_input": "2021-03-03T10:48:02.015096Z",
     "iopub.status.busy": "2021-03-03T10:48:02.014422Z",
     "iopub.status.idle": "2021-03-03T10:48:02.331395Z",
     "shell.execute_reply": "2021-03-03T10:48:02.330768Z"
    },
    "papermill": {
     "duration": 0.338048,
     "end_time": "2021-03-03T10:48:02.331575",
     "exception": false,
     "start_time": "2021-03-03T10:48:01.993527",
     "status": "completed"
    },
    "tags": []
   },
   "outputs": [
    {
     "data": {
      "image/png": "[encoded data removed]",
      "text/plain": [
       "<Figure size 720x432 with 1 Axes>"
      ]
     },
     "metadata": {},
     "output_type": "display_data"
    }
   ],
   "source": [
    "train=data.loc[:split_date]\n",
    "test=data.loc[split_date:]\n",
    "plt.figure(figsize=(10,6))\n",
    "ax=train.plot()\n",
    "test.plot(ax=ax)\n",
    "plt.legend(['train','test'])\n",
    "plt.show()"
   ]
  },
  {
   "cell_type": "code",
   "execution_count": 12,
   "metadata": {
    "execution": {
     "iopub.execute_input": "2021-03-03T10:48:02.377431Z",
     "iopub.status.busy": "2021-03-03T10:48:02.376445Z",
     "iopub.status.idle": "2021-03-03T10:48:02.380954Z",
     "shell.execute_reply": "2021-03-03T10:48:02.380424Z"
    },
    "papermill": {
     "duration": 0.029948,
     "end_time": "2021-03-03T10:48:02.381123",
     "exception": false,
     "start_time": "2021-03-03T10:48:02.351175",
     "status": "completed"
    },
    "tags": []
   },
   "outputs": [],
   "source": [
    "scaler=MinMaxScaler(feature_range=(-1,1))\n",
    "train=np.array(train).reshape(-1,1)\n",
    "test=np.array(test).reshape(-1,1)\n",
    "train_sc=scaler.fit_transform(train)\n",
    "test_sc=scaler.fit_transform(test)"
   ]
  },
  {
   "cell_type": "code",
   "execution_count": 13,
   "metadata": {
    "execution": {
     "iopub.execute_input": "2021-03-03T10:48:02.426086Z",
     "iopub.status.busy": "2021-03-03T10:48:02.425392Z",
     "iopub.status.idle": "2021-03-03T10:48:02.428848Z",
     "shell.execute_reply": "2021-03-03T10:48:02.428236Z"
    },
    "papermill": {
     "duration": 0.028364,
     "end_time": "2021-03-03T10:48:02.429026",
     "exception": false,
     "start_time": "2021-03-03T10:48:02.400662",
     "status": "completed"
    },
    "tags": []
   },
   "outputs": [],
   "source": [
    "X_train=train_sc[:-1]\n",
    "y_train=train_sc[1:]\n",
    "\n",
    "X_test=test_sc[:-1]\n",
    "y_test=test_sc[1:]"
   ]
  },
  {
   "cell_type": "code",
   "execution_count": 14,
   "metadata": {
    "execution": {
     "iopub.execute_input": "2021-03-03T10:48:02.474843Z",
     "iopub.status.busy": "2021-03-03T10:48:02.473877Z",
     "iopub.status.idle": "2021-03-03T10:48:02.478566Z",
     "shell.execute_reply": "2021-03-03T10:48:02.477937Z"
    },
    "papermill": {
     "duration": 0.029919,
     "end_time": "2021-03-03T10:48:02.478718",
     "exception": false,
     "start_time": "2021-03-03T10:48:02.448799",
     "status": "completed"
    },
    "tags": []
   },
   "outputs": [
    {
     "data": {
      "text/plain": [
       "((2393, 1), (288, 1), (2393, 1), (288, 1))"
      ]
     },
     "execution_count": 14,
     "metadata": {},
     "output_type": "execute_result"
    }
   ],
   "source": [
    "X_train.shape,X_test.shape,y_train.shape,y_test.shape"
   ]
  },
  {
   "cell_type": "code",
   "execution_count": 15,
   "metadata": {
    "execution": {
     "iopub.execute_input": "2021-03-03T10:48:02.524790Z",
     "iopub.status.busy": "2021-03-03T10:48:02.523929Z",
     "iopub.status.idle": "2021-03-03T10:48:02.529057Z",
     "shell.execute_reply": "2021-03-03T10:48:02.528465Z"
    },
    "papermill": {
     "duration": 0.030195,
     "end_time": "2021-03-03T10:48:02.529215",
     "exception": false,
     "start_time": "2021-03-03T10:48:02.499020",
     "status": "completed"
    },
    "tags": []
   },
   "outputs": [
    {
     "data": {
      "text/plain": [
       "(2683,)"
      ]
     },
     "execution_count": 15,
     "metadata": {},
     "output_type": "execute_result"
    }
   ],
   "source": [
    "data.shape"
   ]
  },
  {
   "cell_type": "code",
   "execution_count": 16,
   "metadata": {
    "execution": {
     "iopub.execute_input": "2021-03-03T10:48:02.577711Z",
     "iopub.status.busy": "2021-03-03T10:48:02.576681Z",
     "iopub.status.idle": "2021-03-03T10:48:47.463840Z",
     "shell.execute_reply": "2021-03-03T10:48:47.463122Z"
    },
    "papermill": {
     "duration": 44.914147,
     "end_time": "2021-03-03T10:48:47.464050",
     "exception": false,
     "start_time": "2021-03-03T10:48:02.549903",
     "status": "completed"
    },
    "tags": []
   },
   "outputs": [
    {
     "name": "stdout",
     "output_type": "stream",
     "text": [
      "Epoch 1/100\n",
      "2393/2393 [==============================] - 2s 827us/step - loss: 0.0081\n",
      "Epoch 2/100\n",
      "2393/2393 [==============================] - 2s 825us/step - loss: 0.0017\n",
      "Epoch 3/100\n",
      "2393/2393 [==============================] - 2s 843us/step - loss: 9.9537e-04\n",
      "Epoch 4/100\n",
      "2393/2393 [==============================] - 2s 877us/step - loss: 7.6616e-04\n",
      "Epoch 5/100\n",
      "2393/2393 [==============================] - 2s 832us/step - loss: 6.4908e-04\n",
      "Epoch 6/100\n",
      "2393/2393 [==============================] - 2s 822us/step - loss: 6.2196e-04\n",
      "Epoch 7/100\n",
      "2393/2393 [==============================] - 2s 830us/step - loss: 6.1855e-04\n",
      "Epoch 8/100\n",
      "2393/2393 [==============================] - 2s 819us/step - loss: 6.1140e-04\n",
      "Epoch 9/100\n",
      "2393/2393 [==============================] - 2s 846us/step - loss: 6.0469e-04\n",
      "Epoch 10/100\n",
      "2393/2393 [==============================] - 2s 826us/step - loss: 5.9834e-04\n",
      "Epoch 11/100\n",
      "2393/2393 [==============================] - 2s 816us/step - loss: 5.9465e-04\n",
      "Epoch 12/100\n",
      "2393/2393 [==============================] - 2s 828us/step - loss: 5.9559e-04\n",
      "Epoch 13/100\n",
      "2393/2393 [==============================] - 2s 834us/step - loss: 5.8878e-04\n",
      "Epoch 14/100\n",
      "2393/2393 [==============================] - 2s 827us/step - loss: 5.9714e-04\n",
      "Epoch 15/100\n",
      "2393/2393 [==============================] - 2s 856us/step - loss: 5.8771e-04\n",
      "Epoch 16/100\n",
      "2393/2393 [==============================] - 2s 818us/step - loss: 5.8376e-04\n",
      "Epoch 17/100\n",
      "2393/2393 [==============================] - 2s 810us/step - loss: 6.0018e-04\n",
      "Epoch 18/100\n",
      "2393/2393 [==============================] - 2s 829us/step - loss: 5.9825e-04\n",
      "Epoch 19/100\n",
      "2393/2393 [==============================] - 2s 863us/step - loss: 5.7668e-04\n",
      "Epoch 20/100\n",
      "2393/2393 [==============================] - 2s 876us/step - loss: 5.6460e-04\n",
      "Epoch 21/100\n",
      "2393/2393 [==============================] - 2s 825us/step - loss: 5.7910e-04\n",
      "Epoch 22/100\n",
      "2393/2393 [==============================] - 2s 860us/step - loss: 5.6655e-04\n",
      "Epoch 00022: early stopping\n"
     ]
    }
   ],
   "source": [
    "nn_model=Sequential()\n",
    "nn_model.add(Dense(12,input_dim=1,activation='relu'))\n",
    "nn_model.add(Dense(1))\n",
    "nn_model.compile(loss='mean_squared_error',optimizer='Adam')\n",
    "early_stop=EarlyStopping(monitor='loss',patience=2,verbose=1)\n",
    "history=nn_model.fit(X_train,y_train,epochs=100,batch_size=1,verbose=1,\n",
    "                     callbacks=[early_stop],shuffle=False)"
   ]
  },
  {
   "cell_type": "code",
   "execution_count": 17,
   "metadata": {
    "execution": {
     "iopub.execute_input": "2021-03-03T10:48:48.074854Z",
     "iopub.status.busy": "2021-03-03T10:48:48.073952Z",
     "iopub.status.idle": "2021-03-03T10:48:48.350211Z",
     "shell.execute_reply": "2021-03-03T10:48:48.350770Z"
    },
    "papermill": {
     "duration": 0.585034,
     "end_time": "2021-03-03T10:48:48.350999",
     "exception": false,
     "start_time": "2021-03-03T10:48:47.765965",
     "status": "completed"
    },
    "tags": []
   },
   "outputs": [
    {
     "name": "stdout",
     "output_type": "stream",
     "text": [
      "The r2score on train set is 0.976\n",
      "The r2score on test set is 0.975\n"
     ]
    }
   ],
   "source": [
    "y_pred_test_nn=nn_model.predict(X_test)\n",
    "y_pred_train_nn=nn_model.predict(X_train)\n",
    "\n",
    "print('The r2score on train set is {:.3f}'.format(r2_score(y_train,y_pred_train_nn)))\n",
    "print('The r2score on test set is {:.3f}'.format(r2_score(y_test,y_pred_test_nn)))"
   ]
  },
  {
   "cell_type": "code",
   "execution_count": 18,
   "metadata": {
    "execution": {
     "iopub.execute_input": "2021-03-03T10:48:48.960507Z",
     "iopub.status.busy": "2021-03-03T10:48:48.959843Z",
     "iopub.status.idle": "2021-03-03T10:48:48.963099Z",
     "shell.execute_reply": "2021-03-03T10:48:48.962566Z"
    },
    "papermill": {
     "duration": 0.309854,
     "end_time": "2021-03-03T10:48:48.963253",
     "exception": false,
     "start_time": "2021-03-03T10:48:48.653399",
     "status": "completed"
    },
    "tags": []
   },
   "outputs": [],
   "source": [
    "X_train_lmse=np.reshape(X_train,(X_train.shape[0],X_train.shape[1],1))\n",
    "X_test_lmse=np.reshape(X_test,(X_test.shape[0],X_test.shape[1],1))"
   ]
  },
  {
   "cell_type": "code",
   "execution_count": 19,
   "metadata": {
    "execution": {
     "iopub.execute_input": "2021-03-03T10:48:49.585907Z",
     "iopub.status.busy": "2021-03-03T10:48:49.575507Z",
     "iopub.status.idle": "2021-03-03T10:49:39.609346Z",
     "shell.execute_reply": "2021-03-03T10:49:39.610001Z"
    },
    "papermill": {
     "duration": 50.343876,
     "end_time": "2021-03-03T10:49:39.610206",
     "exception": false,
     "start_time": "2021-03-03T10:48:49.266330",
     "status": "completed"
    },
    "tags": []
   },
   "outputs": [
    {
     "name": "stdout",
     "output_type": "stream",
     "text": [
      "Epoch 1/100\n",
      "2393/2393 [==============================] - 4s 1ms/step - loss: 0.0674\n",
      "Epoch 2/100\n",
      "2393/2393 [==============================] - 3s 1ms/step - loss: 0.0045\n",
      "Epoch 3/100\n",
      "2393/2393 [==============================] - 3s 1ms/step - loss: 0.0022\n",
      "Epoch 4/100\n",
      "2393/2393 [==============================] - 3s 1ms/step - loss: 0.0016\n",
      "Epoch 5/100\n",
      "2393/2393 [==============================] - 3s 1ms/step - loss: 0.0012\n",
      "Epoch 6/100\n",
      "2393/2393 [==============================] - 3s 1ms/step - loss: 9.0220e-04\n",
      "Epoch 7/100\n",
      "2393/2393 [==============================] - 3s 1ms/step - loss: 7.0961e-04\n",
      "Epoch 8/100\n",
      "2393/2393 [==============================] - 3s 1ms/step - loss: 5.8292e-04\n",
      "Epoch 9/100\n",
      "2393/2393 [==============================] - 3s 1ms/step - loss: 5.1707e-04\n",
      "Epoch 10/100\n",
      "2393/2393 [==============================] - 3s 1ms/step - loss: 4.8258e-04\n",
      "Epoch 11/100\n",
      "2393/2393 [==============================] - 3s 1ms/step - loss: 4.5863e-04\n",
      "Epoch 12/100\n",
      "2393/2393 [==============================] - 3s 1ms/step - loss: 4.4051e-04\n",
      "Epoch 13/100\n",
      "2393/2393 [==============================] - 3s 1ms/step - loss: 4.2884e-04\n",
      "Epoch 14/100\n",
      "2393/2393 [==============================] - 3s 1ms/step - loss: 4.1988e-04\n",
      "Epoch 15/100\n",
      "2393/2393 [==============================] - 3s 1ms/step - loss: 4.1346e-04\n",
      "Epoch 16/100\n",
      "2393/2393 [==============================] - 3s 1ms/step - loss: 4.1279e-04\n",
      "Epoch 17/100\n",
      "2393/2393 [==============================] - 3s 1ms/step - loss: 4.0986e-04\n",
      "Epoch 00017: early stopping\n"
     ]
    }
   ],
   "source": [
    "lstm_model=Sequential()\n",
    "lstm_model.add(LSTM(7,input_shape=(1,X_train_lmse.shape[1]),activation='relu',\n",
    "                    kernel_initializer='lecun_uniform',return_sequences=False))\n",
    "lstm_model.add(Dense(1))\n",
    "lstm_model.compile(loss='mean_squared_error',optimizer='Adam')\n",
    "early_stop=EarlyStopping(monitor='loss',patience=2,verbose=1)\n",
    "history=lstm_model.fit(X_train_lmse,y_train,epochs=100,batch_size=1,\n",
    "                      verbose=1,callbacks=[early_stop],shuffle=False)"
   ]
  },
  {
   "cell_type": "code",
   "execution_count": 20,
   "metadata": {
    "execution": {
     "iopub.execute_input": "2021-03-03T10:49:40.822049Z",
     "iopub.status.busy": "2021-03-03T10:49:40.821371Z",
     "iopub.status.idle": "2021-03-03T10:49:41.244356Z",
     "shell.execute_reply": "2021-03-03T10:49:41.243745Z"
    },
    "papermill": {
     "duration": 1.030907,
     "end_time": "2021-03-03T10:49:41.244515",
     "exception": false,
     "start_time": "2021-03-03T10:49:40.213608",
     "status": "completed"
    },
    "tags": []
   },
   "outputs": [
    {
     "name": "stdout",
     "output_type": "stream",
     "text": [
      "The r2score on train set is 0.987\n",
      "The r2score on test set is 0.987\n"
     ]
    }
   ],
   "source": [
    "y_pred_test_lstm=lstm_model.predict(X_test_lmse)\n",
    "y_pred_train_lstm=lstm_model.predict(X_train_lmse)\n",
    "print('The r2score on train set is {:.3f}'.format(r2_score(y_train,y_pred_train_lstm)))\n",
    "print('The r2score on test set is {:.3f}'.format(r2_score(y_test,y_pred_test_lstm)))"
   ]
  },
  {
   "cell_type": "code",
   "execution_count": 21,
   "metadata": {
    "execution": {
     "iopub.execute_input": "2021-03-03T10:49:42.481343Z",
     "iopub.status.busy": "2021-03-03T10:49:42.452578Z",
     "iopub.status.idle": "2021-03-03T10:49:42.716390Z",
     "shell.execute_reply": "2021-03-03T10:49:42.715830Z"
    },
    "papermill": {
     "duration": 0.873548,
     "end_time": "2021-03-03T10:49:42.716543",
     "exception": false,
     "start_time": "2021-03-03T10:49:41.842995",
     "status": "completed"
    },
    "tags": []
   },
   "outputs": [
    {
     "data": {
      "image/png": "[encoded data removed]",
      "text/plain": [
       "<Figure size 720x432 with 1 Axes>"
      ]
     },
     "metadata": {},
     "output_type": "display_data"
    }
   ],
   "source": [
    "plt.figure(figsize=(10, 6))\n",
    "plt.plot(y_test, label='True')\n",
    "plt.plot(y_pred_test_nn, label='NN')\n",
    "plt.title(\"NN's Prediction\")\n",
    "plt.xlabel('Observation')\n",
    "plt.ylabel('Close Scaled')\n",
    "plt.legend()\n",
    "plt.show()"
   ]
  },
  {
   "cell_type": "code",
   "execution_count": 22,
   "metadata": {
    "execution": {
     "iopub.execute_input": "2021-03-03T10:49:43.951923Z",
     "iopub.status.busy": "2021-03-03T10:49:43.939227Z",
     "iopub.status.idle": "2021-03-03T10:49:44.223855Z",
     "shell.execute_reply": "2021-03-03T10:49:44.223201Z"
    },
    "papermill": {
     "duration": 0.908742,
     "end_time": "2021-03-03T10:49:44.224030",
     "exception": false,
     "start_time": "2021-03-03T10:49:43.315288",
     "status": "completed"
    },
    "tags": []
   },
   "outputs": [
    {
     "data": {
      "image/png": "[encoded data removed]",
      "text/plain": [
       "<Figure size 432x288 with 1 Axes>"
      ]
     },
     "metadata": {},
     "output_type": "display_data"
    }
   ],
   "source": [
    "plt.plot(y_test,label='True')\n",
    "plt.plot(y_pred_test_lstm,label='lstm')\n",
    "plt.title(\"LSTM's Prediction\")\n",
    "plt.xlabel('Observation')\n",
    "plt.ylabel('Close Scaled')\n",
    "plt.legend()\n",
    "plt.show()"
   ]
  },
  {
   "cell_type": "code",
   "execution_count": null,
   "metadata": {
    "papermill": {
     "duration": 0.60998,
     "end_time": "2021-03-03T10:49:45.517555",
     "exception": false,
     "start_time": "2021-03-03T10:49:44.907575",
     "status": "completed"
    },
    "tags": []
   },
   "outputs": [],
   "source": []
  }
 ],
 "metadata": {
  "kernelspec": {
   "display_name": "Python 3",
   "language": "python",
   "name": "python3"
  },
  "language_info": {
   "codemirror_mode": {
    "name": "ipython",
    "version": 3
   },
   "file_extension": ".py",
   "mimetype": "text/x-python",
   "name": "python",
   "nbconvert_exporter": "python",
   "pygments_lexer": "ipython3",
   "version": "3.7.9"
  },
  "papermill": {
   "default_parameters": {},
   "duration": 118.092617,
   "end_time": "2021-03-03T10:49:47.240663",
   "environment_variables": {},
   "exception": null,
   "input_path": "__notebook__.ipynb",
   "output_path": "__notebook__.ipynb",
   "parameters": {},
   "start_time": "2021-03-03T10:47:49.148046",
   "version": "2.2.2"
  }
 },
 "nbformat": 4,
 "nbformat_minor": 4
}
